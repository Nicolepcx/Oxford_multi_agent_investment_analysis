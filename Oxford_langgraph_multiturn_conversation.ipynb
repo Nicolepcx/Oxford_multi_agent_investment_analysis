{
  "nbformat": 4,
  "nbformat_minor": 0,
  "metadata": {
    "colab": {
      "provenance": []
    },
    "kernelspec": {
      "name": "python3",
      "display_name": "Python 3"
    },
    "language_info": {
      "name": "python"
    }
  },
  "cells": [
    {
      "cell_type": "markdown",
      "source": [
        "<a target=\"_blank\" href=\"https://colab.research.google.com/github/Nicolepcx/Oxford_multi_agent_investment_analysis/blob/main/Oxford_langgraph_multiturn_conversation.ipynb\">\n",
        "  <img src=\"https://colab.research.google.com/assets/colab-badge.svg\" alt=\"Open In Colab\"/>\n",
        "</a>"
      ],
      "metadata": {
        "id": "Mi6P-RUE7CA0"
      }
    },
    {
      "cell_type": "markdown",
      "source": [
        "# About the Notebook\n",
        "\n",
        "\n",
        "\n",
        "## 🔁 Interactive Investment Report Generator with Human-in-the-Loop Feedback\n",
        "\n",
        "This notebook implements a LangGraph workflow that generates LinkedIn posts using an LLM, with a human-in-the-loop feedback mechanism. The flow includes three main components:\n",
        "\n",
        "- **Model Node**: Uses a language model (Llama 3 via Nebius) to generate a LinkedIn post based on a user-provided topic and optional feedback.\n",
        "- **Human Node**: Pauses execution to collect user feedback on the generated post. The user can iteratively refine the output or type `\"done\"` (or `\"exit\"`, `\"quit\"`, `\"q\"`) to finalize it.\n",
        "- **End Node**: Outputs the final post and feedback summary.\n",
        "\n",
        "The code uses LangGraph’s `interrupt()` and `and command()` mechanism to handle real-time input, and supports continuous, feedback-driven improvement of the generated content. The flow is structured using a `StateGraph`, and all interactions are managed with a `while True` loop that handles streaming and user input cleanly.\n",
        "\n",
        "**NOTE:** You can use either Open AI or any other LLM here, I used [Nebius](https://studio.nebius.com/), which offers fairly good prices on some common LLMs.\n",
        "\n"
      ],
      "metadata": {
        "id": "vCxa_2fks4Pk"
      }
    },
    {
      "cell_type": "markdown",
      "source": [
        "# Dependencies"
      ],
      "metadata": {
        "id": "6FdeIF_JwJvf"
      }
    },
    {
      "cell_type": "code",
      "execution_count": 1,
      "metadata": {
        "id": "6f11d631-8679-4f28-822f-cdf1f2ddc21c"
      },
      "outputs": [],
      "source": [
        "%%capture --no-stderr\n",
        "%pip install openai==1.61.1 python-dotenv==1.0.1 langchain-openai==0.2.13 langgraph==0.3.31"
      ]
    },
    {
      "cell_type": "markdown",
      "source": [
        "# API Setup"
      ],
      "metadata": {
        "id": "SkJYfpDtwd0H"
      }
    },
    {
      "cell_type": "code",
      "execution_count": 2,
      "metadata": {
        "id": "705d4020-6ee8-44cc-b1a5-8c34e7172fc7"
      },
      "outputs": [],
      "source": [
        "import os\n",
        "from dotenv import load_dotenv\n",
        "\n",
        "load_dotenv()\n",
        "\n",
        "# Set up API keys and environment variables\n",
        "NEBIUS_API_KEY = os.getenv('NEBIUS_API_KEY')\n",
        "\n",
        "# Uncomment to use OpenAI\n",
        "#OPENAI_API_KEY = os.getenv('OPENAI_API_KEY')"
      ]
    },
    {
      "cell_type": "code",
      "source": [
        "# Uncomment to use OpenAI\n",
        "#llm = ChatOpenAI(model=\"gpt-4o\")"
      ],
      "metadata": {
        "id": "VvwPzADhz3s6"
      },
      "execution_count": 21,
      "outputs": []
    },
    {
      "cell_type": "markdown",
      "source": [
        "# Imports"
      ],
      "metadata": {
        "id": "mZLJkFGKwrwt"
      }
    },
    {
      "cell_type": "code",
      "source": [
        "from langgraph.graph import StateGraph, START, END, add_messages\n",
        "from langgraph.types import Command, interrupt\n",
        "from typing import TypedDict, Annotated, List\n",
        "from langgraph.checkpoint.memory import MemorySaver\n",
        "from langchain_openai.chat_models import ChatOpenAI\n",
        "from langchain_core.messages import HumanMessage, SystemMessage, AIMessage\n",
        "import uuid"
      ],
      "metadata": {
        "id": "uQWX6na6vizI"
      },
      "execution_count": 22,
      "outputs": []
    },
    {
      "cell_type": "markdown",
      "source": [
        "# Constants"
      ],
      "metadata": {
        "id": "vtCUHbGkwmDG"
      }
    },
    {
      "cell_type": "code",
      "source": [
        "llm = ChatOpenAI(\n",
        "                model=\"meta-llama/Llama-3.3-70B-Instruct-fast\",\n",
        "                temperature=0,\n",
        "                max_tokens=None,\n",
        "                timeout=None,\n",
        "                max_retries=2,\n",
        "                api_key=NEBIUS_API_KEY,\n",
        "                base_url=\"https://api.studio.nebius.ai/v1/\"\n",
        "            )\n"
      ],
      "metadata": {
        "id": "QzMN9Mb5vkRY"
      },
      "execution_count": 23,
      "outputs": []
    },
    {
      "cell_type": "markdown",
      "source": [
        "A `StateGraph` object defines the structure of our chatbot as a \"state machine\". We'll add `nodes` to represent the llm and functions our chatbot can call and `edges` to specify how the bot should transition between these functions."
      ],
      "metadata": {
        "id": "Rm5gYYmNw1YY"
      }
    },
    {
      "cell_type": "code",
      "source": [
        "class State(TypedDict):\n",
        "    report_asset: str\n",
        "    generated_report: Annotated[List[str], add_messages]\n",
        "    human_feedback: Annotated[List[str], add_messages]\n"
      ],
      "metadata": {
        "id": "Ny8DFTNbwwCR"
      },
      "execution_count": 44,
      "outputs": []
    },
    {
      "cell_type": "code",
      "source": [
        "def model(state: State):\n",
        "    \"\"\" Here, we're using the LLM to generate a first feedback human feedback\n",
        "    incorporated on the initial prompt for the report.\"\"\"\n",
        "\n",
        "    #logger(\"[model] Generating content\")\n",
        "    hypothesis_prompt = state[\"report_asset\"]\n",
        "    feedback = state[\"human_feedback\"] if \"human_feedback\" in state else [\"No Feedback yet\"]\n",
        "\n",
        "\n",
        "    # Define the prompt\n",
        "\n",
        "    prompt = f\"\"\"\n",
        "\n",
        "        Report Asset: {report_asset}\n",
        "        Human Feedback: {feedback[-1] if feedback else \"No feedback yet\"}\n",
        "\n",
        "        Generate a structured and well-written Asset report based on the given asset.\n",
        "\n",
        "        Consider previous human feedback to refine the reponse.\n",
        "    \"\"\"\n",
        "\n",
        "    response = llm.invoke([\n",
        "        SystemMessage(content=\"You are a CFA charter investment analyst with over 20 years of experience in investing.\"),\n",
        "        HumanMessage(content=prompt)\n",
        "    ])\n",
        "\n",
        "    generated_report = response.content\n",
        "\n",
        "    print(f\"[model_node] Generated Report:\\n{generated_report}\\n\")\n",
        "\n",
        "    return {\n",
        "       \"generated_report\": [AIMessage(content=generated_report)] ,\n",
        "       \"human_feedback\": feedback\n",
        "    }"
      ],
      "metadata": {
        "id": "q8IcC-kSxGsF"
      },
      "execution_count": 45,
      "outputs": []
    },
    {
      "cell_type": "markdown",
      "source": [
        "# Define Human Node Using `Interrupt()`"
      ],
      "metadata": {
        "id": "QrV_mRg7xJy3"
      }
    },
    {
      "cell_type": "code",
      "source": [
        "def human_node(state: State):\n",
        "    \"\"\"Human Intervention node - loops back to model unless input is done\"\"\"\n",
        "\n",
        "    print(\"\\n [human_node] awaiting human feedback...\")\n",
        "\n",
        "    generated_report = state[\"generated_report\"]\n",
        "\n",
        "    user_feedback = interrupt(\n",
        "        {\n",
        "            \"generated_report\": generated_report,\n",
        "            \"message\": \"Provide feedback or type 'done' to finish\"\n",
        "        }\n",
        "    )\n",
        "\n",
        "    print(f\"[human_node] Received human feedback: {user_feedback}\")\n",
        "\n",
        "    if user_feedback.lower() in [\"done\", \"quit\", \"exit\", \"q\"]:\n",
        "        return Command(update={\"human_feedback\": state[\"human_feedback\"] + [\"Finalised\"]}, goto=\"end_node\")\n",
        "\n",
        "    return Command(update={\"human_feedback\": state[\"human_feedback\"] + [user_feedback]}, goto=\"model\")\n"
      ],
      "metadata": {
        "id": "2LvrOjbKxJCl"
      },
      "execution_count": 51,
      "outputs": []
    },
    {
      "cell_type": "code",
      "source": [
        "def end_node(state: State):\n",
        "    \"\"\" Final node \"\"\"\n",
        "    print(\"\\n[end_node] Process finished\")\n",
        "    print(\"Final Generated Post:\", state[\"generated_report\"][-1])\n",
        "    print(\"Final Human Feedback\", state[\"human_feedback\"])\n",
        "    return {\"generated_report\": state[\"generated_report\"], \"human_feedback\": state[\"human_feedback\"]}\n"
      ],
      "metadata": {
        "id": "WPTjkBlQxTfn"
      },
      "execution_count": 52,
      "outputs": []
    },
    {
      "cell_type": "markdown",
      "source": [
        "# Buiding the Graph"
      ],
      "metadata": {
        "id": "QFqjNawtxZCa"
      }
    },
    {
      "cell_type": "code",
      "source": [
        "graph = StateGraph(State)\n",
        "graph.add_node(\"model\", model)\n",
        "graph.add_node(\"human_node\", human_node)\n",
        "graph.add_node(\"end_node\", end_node)\n",
        "\n",
        "graph.set_entry_point(\"model\")\n",
        "\n"
      ],
      "metadata": {
        "id": "CTvkwbrvxWym",
        "colab": {
          "base_uri": "https://localhost:8080/"
        },
        "outputId": "f1e9491a-b793-4f96-d069-858eb2cf4ff2"
      },
      "execution_count": 53,
      "outputs": [
        {
          "output_type": "execute_result",
          "data": {
            "text/plain": [
              "<langgraph.graph.state.StateGraph at 0x7864248dfd10>"
            ]
          },
          "metadata": {},
          "execution_count": 53
        }
      ]
    },
    {
      "cell_type": "markdown",
      "source": [
        "# Define the flow"
      ],
      "metadata": {
        "id": "m_h2v-UAxd3G"
      }
    },
    {
      "cell_type": "code",
      "source": [
        "graph.add_edge(START, \"model\")\n",
        "graph.add_edge(\"model\", \"human_node\")\n",
        "\n",
        "graph.set_finish_point(\"end_node\")"
      ],
      "metadata": {
        "id": "Q9UVmDRpxcy6",
        "colab": {
          "base_uri": "https://localhost:8080/"
        },
        "outputId": "43abc347-9044-4eca-f931-310ffbc32396"
      },
      "execution_count": 54,
      "outputs": [
        {
          "output_type": "execute_result",
          "data": {
            "text/plain": [
              "<langgraph.graph.state.StateGraph at 0x7864248dfd10>"
            ]
          },
          "metadata": {},
          "execution_count": 54
        }
      ]
    },
    {
      "cell_type": "markdown",
      "source": [
        "# Enable Interrupt mechanism"
      ],
      "metadata": {
        "id": "X_P59m4rxgyf"
      }
    },
    {
      "cell_type": "code",
      "source": [
        "checkpointer = MemorySaver()\n",
        "app = graph.compile(checkpointer=checkpointer)\n",
        "\n",
        "thread_config = {\"configurable\": {\n",
        "    \"thread_id\": uuid.uuid4()\n",
        "}}\n",
        "\n",
        "report_asset = input(\"Enter your asset: \")\n",
        "initial_state = {\n",
        "    \"report_asset\": report_asset,\n",
        "    \"generated_report\": [],\n",
        "    \"human_feedback\": []\n",
        "}\n",
        "\n",
        "# Initial call to stream the first output\n",
        "stream = app.stream(initial_state, config=thread_config)\n",
        "feedback_done = False\n",
        "\n",
        "while True:\n",
        "    try:\n",
        "        chunk = next(stream)\n",
        "        for node_id, value in chunk.items():\n",
        "            if node_id == \"__interrupt__\":\n",
        "                while True:\n",
        "                    user_feedback = input(\"User: \")\n",
        "                    if user_feedback.lower() in [\"quit\", \"exit\", \"q\", \"done\"]:\n",
        "                        app.invoke(Command(resume=\"done\"), config=thread_config)\n",
        "                        feedback_done = True\n",
        "                        break\n",
        "                    else:\n",
        "                        app.invoke(Command(resume=user_feedback), config=thread_config)\n",
        "                if feedback_done:\n",
        "                    break\n",
        "    except StopIteration:\n",
        "        break\n",
        "\n",
        "print(\"Finished.\")\n",
        "\n",
        "\n",
        "\n",
        "\n"
      ],
      "metadata": {
        "colab": {
          "base_uri": "https://localhost:8080/"
        },
        "id": "oRzdO2nwszdB",
        "outputId": "a096fef0-4d53-4dda-b6a7-1db9228dbcc4"
      },
      "execution_count": 55,
      "outputs": [
        {
          "output_type": "stream",
          "name": "stdout",
          "text": [
            "Enter your asset: nvidia\n",
            "[model_node] Generated Report:\n",
            "**Asset Report: NVIDIA Corporation (NVDA)**\n",
            "\n",
            "**Introduction:**\n",
            "NVIDIA Corporation is a leading American technology company specializing in the design and manufacture of graphics processing units (GPUs), high-performance computing hardware, and related software. The company is a dominant player in the fields of artificial intelligence (AI), gaming, professional visualization, and autonomous vehicles.\n",
            "\n",
            "**Business Overview:**\n",
            "NVIDIA's business is organized into two main segments: Graphics and Compute & Networking. The Graphics segment includes GeForce GPUs for gaming and Quadro GPUs for professional visualization. The Compute & Networking segment comprises Datacenter, Mellanox, and Automotive businesses, which provide hardware and software solutions for AI, high-performance computing, and networking applications.\n",
            "\n",
            "**Financial Performance:**\n",
            "As of the latest available data, NVIDIA's financial performance is characterized by:\n",
            "\n",
            "* **Revenue Growth:** NVIDIA has consistently demonstrated strong revenue growth, driven by increasing demand for its GPUs in gaming, AI, and datacenter applications.\n",
            "* **Profitability:** The company has maintained high profitability, with gross margins ranging between 60% to 65% and operating margins between 30% to 35%.\n",
            "* **Cash Flow Generation:** NVIDIA has a strong track record of generating cash from operations, which has enabled the company to invest in research and development, make strategic acquisitions, and return value to shareholders through share repurchases and dividends.\n",
            "\n",
            "**Competitive Landscape:**\n",
            "NVIDIA operates in a highly competitive industry, with key competitors including:\n",
            "\n",
            "* **AMD (Advanced Micro Devices):** A leading provider of GPUs and CPUs for gaming, professional visualization, and datacenter applications.\n",
            "* **Intel Corporation:** A dominant player in the CPU market, which has also been expanding its presence in the GPU and AI markets.\n",
            "* **Qualcomm Incorporated:** A leading provider of mobile processors and modems, which has also been investing in AI and automotive technologies.\n",
            "\n",
            "**Growth Drivers:**\n",
            "NVIDIA's growth is driven by several key factors, including:\n",
            "\n",
            "* **Artificial Intelligence (AI):** The increasing adoption of AI in various industries, such as healthcare, finance, and transportation, is driving demand for NVIDIA's GPUs and AI computing hardware.\n",
            "* **Gaming:** The growing popularity of gaming, particularly in the Asia-Pacific region, is driving demand for NVIDIA's GeForce GPUs.\n",
            "* **Autonomous Vehicles:** The development of autonomous vehicles is driving demand for NVIDIA's Drive platform, which provides a comprehensive solution for autonomous driving.\n",
            "\n",
            "**Risks and Challenges:**\n",
            "NVIDIA faces several risks and challenges, including:\n",
            "\n",
            "* **Competition:** The company faces intense competition from established players and new entrants in the GPU and AI markets.\n",
            "* **Regulatory Risks:** NVIDIA is subject to various regulatory risks, including trade tensions and export restrictions, which can impact its ability to sell products in certain markets.\n",
            "* **Supply Chain Risks:** The company is dependent on a limited number of suppliers for certain components, which can create supply chain risks and impact its ability to meet customer demand.\n",
            "\n",
            "**Valuation:**\n",
            "NVIDIA's valuation is characterized by:\n",
            "\n",
            "* **Price-to-Earnings (P/E) Ratio:** The company's P/E ratio is currently around 40x, which is higher than the industry average.\n",
            "* **Price-to-Sales (P/S) Ratio:** The company's P/S ratio is currently around 15x, which is also higher than the industry average.\n",
            "* **Dividend Yield:** NVIDIA's dividend yield is currently around 0.2%, which is lower than the industry average.\n",
            "\n",
            "**Conclusion:**\n",
            "NVIDIA is a leading technology company with a strong track record of innovation and growth. The company's dominant position in the GPU market, combined with its growing presence in AI, autonomous vehicles, and datacenter applications, makes it an attractive investment opportunity. However, investors should be aware of the risks and challenges facing the company, including competition, regulatory risks, and supply chain risks. As of the latest available data, NVIDIA's valuation appears to be rich, but the company's strong growth prospects and competitive advantages justify its premium valuation.\n",
            "\n",
            "**Recommendation:**\n",
            "Based on our analysis, we recommend a **BUY** rating for NVIDIA Corporation, with a target price of $250.00. We believe that the company's strong growth prospects, combined with its dominant position in the GPU market and growing presence in AI and autonomous vehicles, make it an attractive investment opportunity for long-term investors. However, investors should be aware of the risks and challenges facing the company and maintain a long-term perspective.\n",
            "\n",
            "\n",
            " [human_node] awaiting human feedback...\n",
            "User: I changed my mind I want it on apple\n",
            "\n",
            " [human_node] awaiting human feedback...\n",
            "[human_node] Received human feedback: I changed my mind I want it on apple\n",
            "[model_node] Generated Report:\n",
            "**Asset Report: Apple Inc. (AAPL)**\n",
            "\n",
            "**Introduction:**\n",
            "As per the revised instruction, this report will focus on Apple Inc. (AAPL), a multinational technology company headquartered in Cupertino, California. Apple is one of the world's largest and most influential technology companies, with a diverse range of products and services that include iPhones, Mac computers, iPads, Apple Watches, AirPods, and a growing suite of software and subscription services.\n",
            "\n",
            "**Business Overview:**\n",
            "Apple's business is organized into five main segments:\n",
            "1. **iPhone**: The iPhone is Apple's flagship product and accounts for the majority of the company's revenue. The iPhone is a line of smartphones that run on Apple's proprietary iOS operating system.\n",
            "2. **Mac**: Apple's Mac segment includes the company's line of desktop and laptop computers, which run on macOS.\n",
            "3. **iPad**: The iPad is a line of tablet computers that run on iOS.\n",
            "4. **Wearables, Home and Accessories**: This segment includes Apple Watch, AirPods, and other accessories.\n",
            "5. **Services**: Apple's services segment includes the App Store, Apple Music, Apple TV+, Apple Arcade, and Apple Care, among others.\n",
            "\n",
            "**Financial Performance:**\n",
            "As of the latest available data, Apple's financial performance is characterized by:\n",
            "- **Revenue Growth**: Apple has consistently demonstrated revenue growth, driven by the success of its iPhone and services segments.\n",
            "- **Profitability**: The company maintains high profitability, with significant gross margins and operating margins.\n",
            "- **Cash Flow**: Apple generates substantial cash flow from operations, which it uses for research and development, capital expenditures, and returning value to shareholders through dividends and share buybacks.\n",
            "\n",
            "**Market Position and Competitive Advantage:**\n",
            "Apple enjoys a strong market position and competitive advantage due to:\n",
            "- **Brand Loyalty**: Apple has a loyal customer base, which contributes to the company's ability to retain customers and attract new ones.\n",
            "- **Ecosystem**: The seamless integration of Apple devices and services creates a robust ecosystem that enhances user experience and encourages loyalty.\n",
            "- **Innovation**: Apple is known for its innovative products and services, which help the company stay ahead of competitors.\n",
            "\n",
            "**Risks and Challenges:**\n",
            "Despite its strong position, Apple faces several risks and challenges, including:\n",
            "- **Competition**: The technology industry is highly competitive, with companies like Samsung, Google, and Huawei competing in the smartphone and other markets.\n",
            "- **Regulatory Risks**: Apple, like other large technology companies, faces regulatory scrutiny and potential changes in laws and regulations that could impact its business.\n",
            "- **Supply Chain Risks**: Apple's global supply chain exposes the company to risks related to component availability, manufacturing, and logistics.\n",
            "\n",
            "**Investment Thesis:**\n",
            "The investment thesis for Apple is based on its:\n",
            "- **Growth Potential**: Continued innovation and expansion into new markets and services.\n",
            "- **Financial Strength**: Strong revenue growth, high profitability, and significant cash generation.\n",
            "- **Competitive Advantage**: Brand loyalty, ecosystem, and innovation capabilities.\n",
            "\n",
            "**Conclusion:**\n",
            "Apple Inc. presents a compelling investment opportunity due to its strong financial performance, competitive advantage, and growth potential. However, investors should be aware of the risks and challenges the company faces. As with any investment, it's essential to conduct thorough research and consider individual financial goals and risk tolerance before making an investment decision.\n",
            "\n",
            "**Recommendation:**\n",
            "Based on the analysis, Apple Inc. (AAPL) is a buy recommendation for long-term investors seeking exposure to the technology sector with a stable and innovative company. However, market conditions and individual investor circumstances can change, so it's crucial to stay informed and adjust investment strategies accordingly.\n",
            "\n",
            "\n",
            " [human_node] awaiting human feedback...\n",
            "User: q\n",
            "\n",
            " [human_node] awaiting human feedback...\n",
            "[human_node] Received human feedback: done\n",
            "\n",
            "[end_node] Process finished\n",
            "Final Generated Post: content=\"**Asset Report: Apple Inc. (AAPL)**\\n\\n**Introduction:**\\nAs per the revised instruction, this report will focus on Apple Inc. (AAPL), a multinational technology company headquartered in Cupertino, California. Apple is one of the world's largest and most influential technology companies, with a diverse range of products and services that include iPhones, Mac computers, iPads, Apple Watches, AirPods, and a growing suite of software and subscription services.\\n\\n**Business Overview:**\\nApple's business is organized into five main segments:\\n1. **iPhone**: The iPhone is Apple's flagship product and accounts for the majority of the company's revenue. The iPhone is a line of smartphones that run on Apple's proprietary iOS operating system.\\n2. **Mac**: Apple's Mac segment includes the company's line of desktop and laptop computers, which run on macOS.\\n3. **iPad**: The iPad is a line of tablet computers that run on iOS.\\n4. **Wearables, Home and Accessories**: This segment includes Apple Watch, AirPods, and other accessories.\\n5. **Services**: Apple's services segment includes the App Store, Apple Music, Apple TV+, Apple Arcade, and Apple Care, among others.\\n\\n**Financial Performance:**\\nAs of the latest available data, Apple's financial performance is characterized by:\\n- **Revenue Growth**: Apple has consistently demonstrated revenue growth, driven by the success of its iPhone and services segments.\\n- **Profitability**: The company maintains high profitability, with significant gross margins and operating margins.\\n- **Cash Flow**: Apple generates substantial cash flow from operations, which it uses for research and development, capital expenditures, and returning value to shareholders through dividends and share buybacks.\\n\\n**Market Position and Competitive Advantage:**\\nApple enjoys a strong market position and competitive advantage due to:\\n- **Brand Loyalty**: Apple has a loyal customer base, which contributes to the company's ability to retain customers and attract new ones.\\n- **Ecosystem**: The seamless integration of Apple devices and services creates a robust ecosystem that enhances user experience and encourages loyalty.\\n- **Innovation**: Apple is known for its innovative products and services, which help the company stay ahead of competitors.\\n\\n**Risks and Challenges:**\\nDespite its strong position, Apple faces several risks and challenges, including:\\n- **Competition**: The technology industry is highly competitive, with companies like Samsung, Google, and Huawei competing in the smartphone and other markets.\\n- **Regulatory Risks**: Apple, like other large technology companies, faces regulatory scrutiny and potential changes in laws and regulations that could impact its business.\\n- **Supply Chain Risks**: Apple's global supply chain exposes the company to risks related to component availability, manufacturing, and logistics.\\n\\n**Investment Thesis:**\\nThe investment thesis for Apple is based on its:\\n- **Growth Potential**: Continued innovation and expansion into new markets and services.\\n- **Financial Strength**: Strong revenue growth, high profitability, and significant cash generation.\\n- **Competitive Advantage**: Brand loyalty, ecosystem, and innovation capabilities.\\n\\n**Conclusion:**\\nApple Inc. presents a compelling investment opportunity due to its strong financial performance, competitive advantage, and growth potential. However, investors should be aware of the risks and challenges the company faces. As with any investment, it's essential to conduct thorough research and consider individual financial goals and risk tolerance before making an investment decision.\\n\\n**Recommendation:**\\nBased on the analysis, Apple Inc. (AAPL) is a buy recommendation for long-term investors seeking exposure to the technology sector with a stable and innovative company. However, market conditions and individual investor circumstances can change, so it's crucial to stay informed and adjust investment strategies accordingly.\" additional_kwargs={} response_metadata={} id='e99e5fe5-caed-43d0-b157-07bf9e3fee99'\n",
            "Final Human Feedback [HumanMessage(content='I changed my mind I want it on apple', additional_kwargs={}, response_metadata={}, id='ab2814cf-d333-41ec-a03d-72cbc4924979'), HumanMessage(content='Finalised', additional_kwargs={}, response_metadata={}, id='62dd3982-2eb0-407e-bda5-0c9f92877644')]\n",
            "Finished.\n"
          ]
        }
      ]
    },
    {
      "cell_type": "code",
      "source": [],
      "metadata": {
        "id": "wxnb8Aj9tt8e"
      },
      "execution_count": 55,
      "outputs": []
    }
  ]
}